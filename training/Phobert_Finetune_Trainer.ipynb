{
 "cells": [
  {
   "cell_type": "code",
   "execution_count": 1,
   "metadata": {
    "execution": {
     "iopub.execute_input": "2025-10-08T02:28:39.174035Z",
     "iopub.status.busy": "2025-10-08T02:28:39.173851Z",
     "iopub.status.idle": "2025-10-08T02:28:48.273687Z",
     "shell.execute_reply": "2025-10-08T02:28:48.272976Z",
     "shell.execute_reply.started": "2025-10-08T02:28:39.174019Z"
    },
    "trusted": true
   },
   "outputs": [],
   "source": [
    "!pip install -U unidecode underthesea --quiet\n",
    "!pip install -U transformers==4.40.2 huggingface-hub==0.23.0 peft==0.10.0 --quiet\n",
    "!pip install -U wandb --quiet"
   ]
  },
  {
   "cell_type": "code",
   "execution_count": 2,
   "metadata": {
    "execution": {
     "iopub.execute_input": "2025-10-08T02:28:48.274853Z",
     "iopub.status.busy": "2025-10-08T02:28:48.274618Z",
     "iopub.status.idle": "2025-10-08T02:29:17.445997Z",
     "shell.execute_reply": "2025-10-08T02:29:17.445209Z",
     "shell.execute_reply.started": "2025-10-08T02:28:48.274816Z"
    },
    "trusted": true
   },
   "outputs": [
    {
     "name": "stderr",
     "output_type": "stream",
     "text": [
      "c:\\Users\\vtm-admin\\AppData\\Local\\Programs\\Python\\Python310\\lib\\site-packages\\tqdm\\auto.py:21: TqdmWarning: IProgress not found. Please update jupyter and ipywidgets. See https://ipywidgets.readthedocs.io/en/stable/user_install.html\n",
      "  from .autonotebook import tqdm as notebook_tqdm\n",
      "\u001b[34m\u001b[1mwandb\u001b[0m: Logging into wandb.ai. (Learn how to deploy a W&B server locally: https://wandb.me/wandb-server)\n",
      "\u001b[34m\u001b[1mwandb\u001b[0m: You can find your API key in your browser here: https://wandb.ai/authorize\n",
      "\u001b[34m\u001b[1mwandb\u001b[0m: Paste an API key from your profile and hit enter:\u001b[34m\u001b[1mwandb\u001b[0m: Paste an API key from your profile and hit enter:\u001b[34m\u001b[1mwandb\u001b[0m: Paste an API key from your profile and hit enter:\u001b[34m\u001b[1mwandb\u001b[0m: \u001b[33mWARNING\u001b[0m If you're specifying your api key in code, ensure this code is not shared publicly.\n",
      "\u001b[34m\u001b[1mwandb\u001b[0m: \u001b[33mWARNING\u001b[0m Consider setting the WANDB_API_KEY environment variable, or running `wandb login` from the command line.\n",
      "\u001b[34m\u001b[1mwandb\u001b[0m: No netrc file found, creating one.\n",
      "\u001b[34m\u001b[1mwandb\u001b[0m: Appending key for api.wandb.ai to your netrc file: C:\\Users\\vtm-admin\\_netrc\n",
      "\u001b[34m\u001b[1mwandb\u001b[0m: Currently logged in as: \u001b[33mnvthao43-hnvn\u001b[0m (\u001b[33mnvthao43-hnvn-dan-com\u001b[0m) to \u001b[32mhttps://api.wandb.ai\u001b[0m. Use \u001b[1m`wandb login --relogin`\u001b[0m to force relogin\n"
     ]
    },
    {
     "data": {
      "text/plain": [
       "True"
      ]
     },
     "execution_count": 2,
     "metadata": {},
     "output_type": "execute_result"
    }
   ],
   "source": [
    "import re, json, random\n",
    "import numpy as np\n",
    "import pandas as pd\n",
    "import torch\n",
    "import torch.nn as nn\n",
    "import torch.nn.functional as F\n",
    "from unidecode import unidecode\n",
    "\n",
    "from datasets import Dataset\n",
    "from underthesea import word_tokenize\n",
    "from sklearn.model_selection import train_test_split\n",
    "from sklearn.metrics import accuracy_score, f1_score, classification_report, confusion_matrix\n",
    "import matplotlib.pyplot as plt\n",
    "import seaborn as sns\n",
    "from urllib.parse import urlparse\n",
    "from sklearn.utils.class_weight import compute_class_weight\n",
    "\n",
    "from transformers import (\n",
    "    AutoTokenizer, AutoModelForSequenceClassification,\n",
    "    TrainingArguments, EarlyStoppingCallback, Trainer,\n",
    "    TrainerCallback, AutoConfig\n",
    ")\n",
    "import warnings\n",
    "warnings.filterwarnings('ignore')\n",
    "import wandb\n",
    "wandb.login()"
   ]
  },
  {
   "cell_type": "markdown",
   "metadata": {},
   "source": [
    "# **1. Configuration**"
   ]
  },
  {
   "cell_type": "code",
   "execution_count": null,
   "metadata": {
    "execution": {
     "iopub.execute_input": "2025-10-08T02:29:17.448364Z",
     "iopub.status.busy": "2025-10-08T02:29:17.447793Z",
     "iopub.status.idle": "2025-10-08T02:29:17.459905Z",
     "shell.execute_reply": "2025-10-08T02:29:17.459050Z",
     "shell.execute_reply.started": "2025-10-08T02:29:17.448345Z"
    },
    "trusted": true
   },
   "outputs": [
    {
     "name": "stdout",
     "output_type": "stream",
     "text": [
      "🚀 Using device: cuda\n",
      "📊 Target labels: [0, 1, 2]\n"
     ]
    }
   ],
   "source": [
    "RANDOM_STATE = 42\n",
    "# MODEL_NAME = \"vinai/phobert-base\"\n",
    "MODEL_NAME = \"vinai/phobert-large\"\n",
    "DATASET_PATH = \"./datasets/Text_Emotion_2.csv\"  # Raw dataset\n",
    "OUTPUT_PATH = \"\"\n",
    "DEVICE = torch.device(\"cuda\" if torch.cuda.is_available() else \"cpu\")\n",
    "\n",
    "# Label mapping\n",
    "LABEL_MAP = {0: \"Tiêu cực\", 1: \"Trung lập\", 2: \"Tích cực\"}\n",
    "TARGET_LABELS = [0, 1, 2]\n",
    "\n",
    "# Text cleaning\n",
    "URL_REGEX     = re.compile(r'(https?://[^\\s]+|www\\.[^\\s]+)')\n",
    "EMAIL_REGEX   = re.compile(r'[a-zA-Z0-9_.+-]+@[a-zA-Z0-9-]+\\.[a-zA-Z0-9-.]+')\n",
    "MENTION_REGEX = re.compile(r'@[A-Za-z0-9_]+')\n",
    "\n",
    "# Keyword spam\n",
    "SPAM_KEYWORDS = {\"camp\", \"vé\", \"lazada\", \"tiki\", \"feedback\", \"checklegit\"}\n",
    "\n",
    "# Set random seeds\n",
    "random.seed(RANDOM_STATE)\n",
    "np.random.seed(RANDOM_STATE)\n",
    "torch.manual_seed(RANDOM_STATE)\n",
    "if torch.cuda.is_available():\n",
    "    torch.cuda.manual_seed_all(RANDOM_STATE)\n",
    "\n",
    "print(f\"🚀 Using device: {DEVICE}\")\n",
    "print(f\"📊 Target labels: {TARGET_LABELS}\")"
   ]
  },
  {
   "cell_type": "code",
   "execution_count": 2,
   "metadata": {},
   "outputs": [
    {
     "name": "stdout",
     "output_type": "stream",
     "text": [
      "🌍 Running in LOCAL environment\n",
      "📁 Model output path: ../serving/models/phobert_sentiment\n"
     ]
    }
   ],
   "source": [
    "# 🧠 Tự phát hiện môi trường Kaggle\n",
    "if \"KAGGLE_URL_BASE\" in os.environ or os.path.exists(\"/kaggle/working\"):\n",
    "    ROOT_ENV = \"kaggle\"\n",
    "    MODEL_PATH = \"./models/phobert_sentiment\"\n",
    "else:\n",
    "    ROOT_ENV = \"local\"\n",
    "    MODEL_PATH = \"../serving/models/phobert_sentiment\"\n",
    "\n",
    "print(f\"🌍 Running in {ROOT_ENV.upper()} environment\")\n",
    "print(f\"📁 Model output path: {MODEL_PATH}\")"
   ]
  },
  {
   "cell_type": "markdown",
   "metadata": {},
   "source": [
    "# **2. Data Loading & Initial Exploration**"
   ]
  },
  {
   "cell_type": "code",
   "execution_count": 4,
   "metadata": {
    "execution": {
     "iopub.execute_input": "2025-10-08T02:29:17.461125Z",
     "iopub.status.busy": "2025-10-08T02:29:17.460713Z",
     "iopub.status.idle": "2025-10-08T02:29:17.570827Z",
     "shell.execute_reply": "2025-10-08T02:29:17.570298Z",
     "shell.execute_reply.started": "2025-10-08T02:29:17.461108Z"
    },
    "trusted": true
   },
   "outputs": [
    {
     "name": "stdout",
     "output_type": "stream",
     "text": [
      "==================================================\n",
      "📂 LOADING DATASET\n",
      "==================================================\n",
      "📋 Total samples: 9801\n",
      "📊 Columns: ['comment_text', 'labels']\n"
     ]
    }
   ],
   "source": [
    "print(\"=\" * 50)\n",
    "print(\"📂 LOADING DATASET\")\n",
    "print(\"=\" * 50)\n",
    "\n",
    "# Load raw dataset\n",
    "df = pd.read_csv(DATASET_PATH)\n",
    "print(f\"📋 Total samples: {len(df)}\")\n",
    "print(f\"📊 Columns: {list(df.columns)}\")"
   ]
  },
  {
   "cell_type": "code",
   "execution_count": 5,
   "metadata": {
    "execution": {
     "iopub.execute_input": "2025-10-08T02:29:17.571686Z",
     "iopub.status.busy": "2025-10-08T02:29:17.571438Z",
     "iopub.status.idle": "2025-10-08T02:29:17.596813Z",
     "shell.execute_reply": "2025-10-08T02:29:17.596269Z",
     "shell.execute_reply.started": "2025-10-08T02:29:17.571669Z"
    },
    "trusted": true
   },
   "outputs": [
    {
     "name": "stdout",
     "output_type": "stream",
     "text": [
      "\n",
      "🔍 Dataset Info:\n",
      "<class 'pandas.core.frame.DataFrame'>\n",
      "RangeIndex: 9801 entries, 0 to 9800\n",
      "Data columns (total 2 columns):\n",
      " #   Column        Non-Null Count  Dtype \n",
      "---  ------        --------------  ----- \n",
      " 0   comment_text  9801 non-null   object\n",
      " 1   labels        9801 non-null   int64 \n",
      "dtypes: int64(1), object(1)\n",
      "memory usage: 153.3+ KB\n"
     ]
    }
   ],
   "source": [
    "# Basic info\n",
    "print(\"\\n🔍 Dataset Info:\")\n",
    "df.info()"
   ]
  },
  {
   "cell_type": "code",
   "execution_count": 6,
   "metadata": {
    "execution": {
     "iopub.execute_input": "2025-10-08T02:29:17.597557Z",
     "iopub.status.busy": "2025-10-08T02:29:17.597393Z",
     "iopub.status.idle": "2025-10-08T02:29:17.616983Z",
     "shell.execute_reply": "2025-10-08T02:29:17.616301Z",
     "shell.execute_reply.started": "2025-10-08T02:29:17.597544Z"
    },
    "trusted": true
   },
   "outputs": [
    {
     "name": "stdout",
     "output_type": "stream",
     "text": [
      "\n",
      "📈 Label Distribution (Before cleaning):\n",
      "labels\n",
      "0    3003\n",
      "1    3359\n",
      "2    3439\n",
      "Name: count, dtype: int64\n"
     ]
    }
   ],
   "source": [
    "print(\"\\n📈 Label Distribution (Before cleaning):\")\n",
    "if 'labels' in df.columns:\n",
    "    print(df['labels'].value_counts().sort_index())\n",
    "else:\n",
    "    print(\"❌ 'labels' column not found!\")"
   ]
  },
  {
   "cell_type": "code",
   "execution_count": 7,
   "metadata": {
    "execution": {
     "iopub.execute_input": "2025-10-08T02:29:17.618130Z",
     "iopub.status.busy": "2025-10-08T02:29:17.617903Z",
     "iopub.status.idle": "2025-10-08T02:29:17.636883Z",
     "shell.execute_reply": "2025-10-08T02:29:17.636182Z",
     "shell.execute_reply.started": "2025-10-08T02:29:17.618114Z"
    },
    "trusted": true
   },
   "outputs": [
    {
     "name": "stdout",
     "output_type": "stream",
     "text": [
      "\n",
      "Sample Data:\n",
      "                                        comment_text  labels\n",
      "0  Chắc cười ko ngậm đc mồm quá; toàn thủ phạm gâ...       2\n",
      "1                        Bọn này chỉ hát hò múa thôi       0\n",
      "2                                        Gai con mắt       0\n",
      "3                       Đám gừng sỉ này diễn ghê quá       0\n",
      "4                                         Trờiii ơiu       2\n"
     ]
    }
   ],
   "source": [
    "# Display sample data\n",
    "print(\"\\nSample Data:\")\n",
    "print(df.head(5))"
   ]
  },
  {
   "cell_type": "markdown",
   "metadata": {},
   "source": [
    "# **3. Data Cleaning Functions**"
   ]
  },
  {
   "cell_type": "code",
   "execution_count": null,
   "metadata": {
    "execution": {
     "iopub.execute_input": "2025-10-08T02:29:17.637780Z",
     "iopub.status.busy": "2025-10-08T02:29:17.637599Z",
     "iopub.status.idle": "2025-10-08T02:29:17.649686Z",
     "shell.execute_reply": "2025-10-08T02:29:17.648990Z",
     "shell.execute_reply.started": "2025-10-08T02:29:17.637764Z"
    },
    "trusted": true
   },
   "outputs": [],
   "source": [
    "def replace_url_with_token(match):\n",
    "    url = match.group(0)\n",
    "    try:\n",
    "        domain = urlparse(url).netloc.lower()\n",
    "    except:\n",
    "        domain = url.lower()\n",
    "\n",
    "    # YouTube\n",
    "    if \"youtube.com\" in domain or \"youtu.be\" in domain:\n",
    "        return \" <YOUTUBE> \"\n",
    "\n",
    "    # Facebook (nếu chứa keyword spam trong link thì thành SPAMURL)\n",
    "    elif \"facebook.com\" in domain or \"fb.com\" in domain:\n",
    "        low_url = url.lower()\n",
    "        if any(kw in low_url for kw in SPAM_KEYWORDS):\n",
    "            return \" <SPAMURL> \"\n",
    "        else:\n",
    "            return \" <FACEBOOK> \"\n",
    "\n",
    "    # Mặc định tất cả domain khác = SPAM\n",
    "    else:\n",
    "        return \" <SPAMURL> \"\n",
    "\n",
    "def basic_clean(text):\n",
    "    if not isinstance(text, str):\n",
    "        return \"\"\n",
    "\n",
    "    # Thay URL theo rule\n",
    "    text = URL_REGEX.sub(replace_url_with_token, text)\n",
    "\n",
    "    # Email, mention\n",
    "    text = EMAIL_REGEX.sub(\" <EMAIL> \", text)\n",
    "    text = MENTION_REGEX.sub(\" @user \", text)\n",
    "\n",
    "    # Chuẩn hóa khoảng trắng\n",
    "    return re.sub(r\"\\s+\", \" \", text).strip()"
   ]
  },
  {
   "cell_type": "markdown",
   "metadata": {},
   "source": [
    "# **4. Data Cleaning & Preprocessing**"
   ]
  },
  {
   "cell_type": "code",
   "execution_count": 9,
   "metadata": {
    "execution": {
     "iopub.execute_input": "2025-10-08T02:29:17.652411Z",
     "iopub.status.busy": "2025-10-08T02:29:17.651967Z",
     "iopub.status.idle": "2025-10-08T02:29:17.672460Z",
     "shell.execute_reply": "2025-10-08T02:29:17.671779Z",
     "shell.execute_reply.started": "2025-10-08T02:29:17.652394Z"
    },
    "trusted": true
   },
   "outputs": [
    {
     "name": "stdout",
     "output_type": "stream",
     "text": [
      "==================================================\n",
      "🧹 CLEANING DATASET\n",
      "==================================================\n",
      "📋 After filtering: 9801 samples\n",
      "📊 Label distribution after filtering:\n",
      "labels\n",
      "0    3003\n",
      "1    3359\n",
      "2    3439\n",
      "Name: count, dtype: int64\n"
     ]
    }
   ],
   "source": [
    "print(\"=\" * 50)\n",
    "print(\"🧹 CLEANING DATASET\")\n",
    "print(\"=\" * 50)\n",
    "\n",
    "# Clean the dataset\n",
    "df_clean = df.dropna(subset=['comment_text', 'labels']).copy()\n",
    "df_clean['labels'] = df_clean['labels'].astype(int)\n",
    "df_clean = df_clean[df_clean['labels'].isin(TARGET_LABELS)].reset_index(drop=True)\n",
    "\n",
    "print(f\"📋 After filtering: {len(df_clean)} samples\")\n",
    "print(f\"📊 Label distribution after filtering:\")\n",
    "print(df_clean['labels'].value_counts().sort_index())"
   ]
  },
  {
   "cell_type": "code",
   "execution_count": 10,
   "metadata": {
    "execution": {
     "iopub.execute_input": "2025-10-08T02:29:17.673440Z",
     "iopub.status.busy": "2025-10-08T02:29:17.673075Z",
     "iopub.status.idle": "2025-10-08T02:29:17.755002Z",
     "shell.execute_reply": "2025-10-08T02:29:17.754529Z",
     "shell.execute_reply.started": "2025-10-08T02:29:17.673423Z"
    },
    "trusted": true
   },
   "outputs": [],
   "source": [
    "# Apply basic cleaning\n",
    "df_clean['comment_text_clean'] = df_clean['comment_text'].apply(basic_clean)"
   ]
  },
  {
   "cell_type": "code",
   "execution_count": 11,
   "metadata": {
    "execution": {
     "iopub.execute_input": "2025-10-08T02:29:17.755814Z",
     "iopub.status.busy": "2025-10-08T02:29:17.755628Z",
     "iopub.status.idle": "2025-10-08T02:29:17.765352Z",
     "shell.execute_reply": "2025-10-08T02:29:17.764621Z",
     "shell.execute_reply.started": "2025-10-08T02:29:17.755801Z"
    },
    "trusted": true
   },
   "outputs": [
    {
     "name": "stdout",
     "output_type": "stream",
     "text": [
      "✅ <SPAMURL> Đại tiệc sinh nhật 789BET với vô vàn nhiều phần quà hấp dẫn và các sự kiện hot nhất trong tháng 9. Tích vé quay xe nhận ngay xe MERCEDES-BENZ C200 Avan. tga rde; SH 125i; Ipho.ne 16 Pro max... Đạt mốc siêu nhanh - nhận n gay 1 cây vàng. Đặc biệt có sự góp mặt của ca sĩ Lâ m Ch ấn H.uy khuấy độ.ng không khí sự kiện. Đ.ừng chần chừ; tích vé càng nhiều – cơ hội trúng càng cao! 892 84 u2ort\n",
      "✅ Vay nhanh 1 TRIỆU - 30 TRIỆU - 1 TỶ (chấp nhận hồ sơ không vay được ngân hàng) Đăng ký vay ngay tại đây: <SPAMURL> Vay Tiền Nhanh Bằng Đăng Kí/ Cà vẹt Xe Máy - Ô tô Địa chỉ: F88 505 Ngọc Hồi; Thanh Trì; Hà Nội ☎️Call 024.7303.9388\n",
      "✅ Dép bánh mì kẹp ngón cao 3 cm siêu xinh <SPAMURL>\n",
      "✅ Nạp USDT liền tay – Nạp chủ nhật tặng thêm 8%; Nhận ngay 1% thưởng; không giới hạn – Chơi lớn cùng 789BET; tải app đăng ký nhận ngay 50K; nạp đầu thưởng 188K bắn cá nổ hũ; Thăng cấp VIP mỗi lần thưởng thêm 188K; mỗi ngày phát 18;789 hồng bao may mắn đến các hội viên.. hãy tham gia ngay kẻo bỏ lở <SPAMURL>\n",
      "✅ Kệ đựng mĩ phẩm mini có kèm gương tai mèo xinh quá nè chị em ơi Giá chỉ hơn 50k thôi ạ 👉 Mua ở đây nhà: <SPAMURL>\n",
      "✅ Thích thế nhỉ anh em Đă𝕟𝕘 𝕜ý +𝟞𝟞𝕜: <SPAMURL> 🤣pheeeeeeluon 7544\n",
      "✅ Đại tiệc sinh nhật 7 8.9 BET với vô vàn nh iều phần quà hấp dẫn và các sự kiện hot nhất trong tháng 9. Tích vé quay xe nhận ngay xe M ERCED.ES-BE NZ C200 Avantgarde; SH 125i; Iphone 16 Pro max... Đạt m?ốc siêu nhanh - nh ận ngay 1 cây vàng. Đặc biệ t có sự g óp mặt của ca sĩ L-âm Chấn Huy khuấy động không khí sự kiện. Đừ ng chần chừ; tích vé càng nhiều – cơ hội trúng càng cao! <SPAMURL> U2i 849 yi2db4\n",
      "✅ <SPAMURL> là trang web giải trí trực tuyến hàng đầu; cung cấp đa dạng trò chơi như casino; bắn cá; xổ số và thể thao.\n",
      "✅ Phê chữ ê kéo dài <SPAMURL>\n",
      "✅ F8BET Tặng 58K tr_ải ngh.iệm khi đ.ăng ký t.ài kho.ản khi tham gia N.Ổ H.Ũ - B.ẮN C.Á <SPAMURL>\n"
     ]
    }
   ],
   "source": [
    "# Lấy vài sample có gắn <SPAMURL>\n",
    "sample_spam = df_clean[df_clean['comment_text_clean'].str.contains(\"<SPAMURL>\")].sample(10)\n",
    "\n",
    "for i, row in sample_spam.iterrows():\n",
    "    print(f\"✅ {row['comment_text_clean']}\")\n"
   ]
  },
  {
   "cell_type": "code",
   "execution_count": null,
   "metadata": {
    "execution": {
     "iopub.execute_input": "2025-10-08T02:29:17.766918Z",
     "iopub.status.busy": "2025-10-08T02:29:17.766159Z",
     "iopub.status.idle": "2025-10-08T02:29:17.782788Z",
     "shell.execute_reply": "2025-10-08T02:29:17.782209Z",
     "shell.execute_reply.started": "2025-10-08T02:29:17.766897Z"
    },
    "trusted": true
   },
   "outputs": [
    {
     "name": "stdout",
     "output_type": "stream",
     "text": [
      "Mua ngay https://shopee.vn/abc123 → Mua ngay <SPAMURL>\n",
      "Xem video https://www.youtube.com/watch?v=abc → Xem video <YOUTUBE>\n",
      "Truy cập https://vnexpress.net/tin-tuc → Truy cập <SPAMURL>\n",
      "mình nhận camp vé giá rẻ → mình nhận camp vé giá rẻ\n",
      "Phim này rất hay và cảm động! → Phim này rất hay và cảm động!\n",
      "Dịch vụ tệ quá, tôi rất thất vọng → Dịch vụ tệ quá, tôi rất thất vọng\n",
      "Sản phẩm bình thường, không có gì đặc biệt → Sản phẩm bình thường, không có gì đặc biệt\n",
      "Film nay rat hay va cam dong! → Film nay rat hay va cam dong!\n",
      "mình nhận camp vé → mình nhận camp vé\n",
      "Dở tệ, phí thời gian. → Dở tệ, phí thời gian.\n",
      "https://shopee.vn/%E1%BB%90p-L%C6%B0ng-Cho-Xiaomi-Redmi-Note-13-11-12-Pro-Plus-5G-Turbo-3-12S-11S-10S-10-9S-9-Pro-Redmi-12-13-12C-10C-13C-Ng%E1%BB%99-ngh%C4%A9nh-C%E1%BA%B7p-%C4%90%C3%B4i-%C4%90i%E1%BB%87n-H%E1%BB%8Da-Ti%E1%BA%BFt-Xe-M%C3%A1y-Silicon-M%E1%BB%9D-B%C3%ACa-M%E1%BB%81m-i.1005456513.26104563210?sp_atk=7975f1af-d972-4ffb-8ee8-ffbe9a161069&xptdk=7975f1af-d972-4ffb-8ee8-ffbe9a161069 → <SPAMURL>\n"
     ]
    }
   ],
   "source": [
    "tests = [\n",
    "    \"Mua ngay https://shopee.vn/abc123\",\n",
    "    \"Xem video https://www.youtube.com/watch?v=abc\",\n",
    "    \"Truy cập https://vnexpress.net/tin-tuc\",\n",
    "    \"mình nhận camp vé giá rẻ\",\n",
    "    \"Phim này rất hay và cảm động!\",\n",
    "    \"Dịch vụ tệ quá, tôi rất thất vọng\",\n",
    "    \"Sản phẩm bình thường, không có gì đặc biệt\",\n",
    "    \"Film nay rat hay va cam dong!\", # No accent version\n",
    "    \"mình nhận camp vé\",\n",
    "    \"Dở tệ, phí thời gian.\",\n",
    "    \"https://shopee.vn/%E1%BB%90p-L%C6%B0ng-Cho-Xiaomi-Redmi-Note-13-11-12-Pro-Plus-5G-Turbo-3-12S-11S-10S-10-9S-9-Pro-Redmi-12-13-12C-10C-13C-Ng%E1%BB%99-ngh%C4%A9nh-C%E1%BA%B7p-%C4%90%C3%B4i-%C4%90i%E1%BB%87n-H%E1%BB%8Da-Ti%E1%BA%BFt-Xe-M%C3%A1y-Silicon-M%E1%BB%9D-B%C3%ACa-M%E1%BB%81m-i.1005456513.26104563210?sp_atk=7975f1af-d972-4ffb-8ee8-ffbe9a161069&xptdk=7975f1af-d972-4ffb-8ee8-ffbe9a161069\"\n",
    "]\n",
    "\n",
    "for t in tests:\n",
    "    print(t, \"→\", basic_clean(t))"
   ]
  },
  {
   "cell_type": "markdown",
   "metadata": {},
   "source": [
    "# **5. Train/Validation/Test Split**"
   ]
  },
  {
   "cell_type": "code",
   "execution_count": null,
   "metadata": {
    "execution": {
     "iopub.execute_input": "2025-10-08T02:29:17.783716Z",
     "iopub.status.busy": "2025-10-08T02:29:17.783496Z",
     "iopub.status.idle": "2025-10-08T02:29:17.815145Z",
     "shell.execute_reply": "2025-10-08T02:29:17.814605Z",
     "shell.execute_reply.started": "2025-10-08T02:29:17.783695Z"
    },
    "trusted": true
   },
   "outputs": [
    {
     "name": "stdout",
     "output_type": "stream",
     "text": [
      "==================================================\n",
      "✂️ SPLITTING DATASET\n",
      "==================================================\n",
      "📊 Dataset Splits:\n",
      "  Train: 7840 samples\n",
      "  Validation: 980 samples\n",
      "  Test: 981 samples\n",
      "\n",
      "📈 Label Distribution per Split:\n",
      "Train:\n",
      "labels\n",
      "0    2402\n",
      "1    2687\n",
      "2    2751\n",
      "Name: count, dtype: int64\n",
      "\n",
      "Validation:\n",
      "labels\n",
      "0    300\n",
      "1    336\n",
      "2    344\n",
      "Name: count, dtype: int64\n",
      "\n",
      "Test:\n",
      "labels\n",
      "0    301\n",
      "1    336\n",
      "2    344\n",
      "Name: count, dtype: int64\n"
     ]
    }
   ],
   "source": [
    "print(\"=\" * 50)\n",
    "print(\"✂️ SPLITTING DATASET\")\n",
    "print(\"=\" * 50)\n",
    "\n",
    "# Split dataset BEFORE oversampling to prevent data leakage\n",
    "train_df, temp_df = train_test_split(\n",
    "    df_clean,\n",
    "    test_size=0.2,\n",
    "    stratify=df_clean['labels'],\n",
    "    random_state=RANDOM_STATE\n",
    ")\n",
    "\n",
    "val_df, test_df = train_test_split(\n",
    "    temp_df,\n",
    "    test_size=0.5,\n",
    "    stratify=temp_df['labels'],\n",
    "    random_state=RANDOM_STATE\n",
    ")\n",
    "\n",
    "print(f\"📊 Dataset Splits:\")\n",
    "print(f\"  Train: {len(train_df)} samples\")\n",
    "print(f\"  Validation: {len(val_df)} samples\")\n",
    "print(f\"  Test: {len(test_df)} samples\")\n",
    "\n",
    "print(f\"\\n📈 Label Distribution per Split:\")\n",
    "print(\"Train:\")\n",
    "print(train_df['labels'].value_counts().sort_index())\n",
    "print(\"\\nValidation:\")\n",
    "print(val_df['labels'].value_counts().sort_index())\n",
    "print(\"\\nTest:\")\n",
    "print(test_df['labels'].value_counts().sort_index())"
   ]
  },
  {
   "cell_type": "markdown",
   "metadata": {},
   "source": [
    "# **8. Prepare Datasets for Training**"
   ]
  },
  {
   "cell_type": "code",
   "execution_count": 14,
   "metadata": {
    "execution": {
     "iopub.execute_input": "2025-10-08T02:29:17.815964Z",
     "iopub.status.busy": "2025-10-08T02:29:17.815724Z",
     "iopub.status.idle": "2025-10-08T02:29:19.165965Z",
     "shell.execute_reply": "2025-10-08T02:29:19.165304Z",
     "shell.execute_reply.started": "2025-10-08T02:29:17.815945Z"
    },
    "trusted": true
   },
   "outputs": [
    {
     "name": "stdout",
     "output_type": "stream",
     "text": [
      "==================================================\n",
      "🔧 PREPARING DATASETS FOR TRAINING\n",
      "==================================================\n"
     ]
    },
    {
     "data": {
      "application/vnd.jupyter.widget-view+json": {
       "model_id": "1fb6dd6679074df8bb2eff7372f994b8",
       "version_major": 2,
       "version_minor": 0
      },
      "text/plain": [
       "config.json:   0%|          | 0.00/558 [00:00<?, ?B/s]"
      ]
     },
     "metadata": {},
     "output_type": "display_data"
    },
    {
     "data": {
      "application/vnd.jupyter.widget-view+json": {
       "model_id": "43ba9df52c0a401dbad0db17be65d91a",
       "version_major": 2,
       "version_minor": 0
      },
      "text/plain": [
       "vocab.txt: 0.00B [00:00, ?B/s]"
      ]
     },
     "metadata": {},
     "output_type": "display_data"
    },
    {
     "data": {
      "application/vnd.jupyter.widget-view+json": {
       "model_id": "a2f87ac0d7d642de8015e3a6e3e6b159",
       "version_major": 2,
       "version_minor": 0
      },
      "text/plain": [
       "bpe.codes: 0.00B [00:00, ?B/s]"
      ]
     },
     "metadata": {},
     "output_type": "display_data"
    },
    {
     "data": {
      "application/vnd.jupyter.widget-view+json": {
       "model_id": "03df6b5a9bfc4f8ebcbb970df9569bf2",
       "version_major": 2,
       "version_minor": 0
      },
      "text/plain": [
       "tokenizer.json: 0.00B [00:00, ?B/s]"
      ]
     },
     "metadata": {},
     "output_type": "display_data"
    },
    {
     "name": "stdout",
     "output_type": "stream",
     "text": [
      "✅ Loaded tokenizer: vinai/phobert-large\n"
     ]
    }
   ],
   "source": [
    "print(\"=\" * 50)\n",
    "print(\"🔧 PREPARING DATASETS FOR TRAINING\")\n",
    "print(\"=\" * 50)\n",
    "\n",
    "# Prepare tokenizer\n",
    "tokenizer = AutoTokenizer.from_pretrained(MODEL_NAME)\n",
    "print(f\"✅ Loaded tokenizer: {MODEL_NAME}\")"
   ]
  },
  {
   "cell_type": "code",
   "execution_count": null,
   "metadata": {
    "execution": {
     "iopub.execute_input": "2025-10-08T02:29:19.167156Z",
     "iopub.status.busy": "2025-10-08T02:29:19.166876Z",
     "iopub.status.idle": "2025-10-08T02:29:19.171831Z",
     "shell.execute_reply": "2025-10-08T02:29:19.171063Z",
     "shell.execute_reply.started": "2025-10-08T02:29:19.167132Z"
    },
    "trusted": true
   },
   "outputs": [],
   "source": [
    "def word_segment_vietnamese(text):\n",
    "    \"\"\"Vietnamese word segmentation for PhoBERT\"\"\"\n",
    "    try:\n",
    "        return word_tokenize(text, format=\"text\").replace(\" \", \"_\")\n",
    "    except:\n",
    "        return text.replace(\" \", \"_\")\n",
    "\n",
    "def tokenize_batch(batch):\n",
    "    \"\"\"Tokenize batch of texts with Vietnamese word segmentation\"\"\"\n",
    "    segmented_texts = [word_segment_vietnamese(text) for text in batch['comment_text']]\n",
    "\n",
    "    return tokenizer(\n",
    "        segmented_texts,\n",
    "        truncation=True,\n",
    "        max_length=256,\n",
    "        padding=False  # Dynamic padding will be handled by Trainer\n",
    "    )"
   ]
  },
  {
   "cell_type": "code",
   "execution_count": null,
   "metadata": {
    "execution": {
     "iopub.execute_input": "2025-10-08T02:29:19.173088Z",
     "iopub.status.busy": "2025-10-08T02:29:19.172813Z",
     "iopub.status.idle": "2025-10-08T02:29:33.260630Z",
     "shell.execute_reply": "2025-10-08T02:29:33.260037Z",
     "shell.execute_reply.started": "2025-10-08T02:29:19.173064Z"
    },
    "trusted": true
   },
   "outputs": [
    {
     "name": "stdout",
     "output_type": "stream",
     "text": [
      "🔄 Creating HuggingFace Datasets...\n",
      "🔄 Tokenizing datasets...\n"
     ]
    },
    {
     "data": {
      "application/vnd.jupyter.widget-view+json": {
       "model_id": "862879f35cf04dfd821cb52a1e89f7ef",
       "version_major": 2,
       "version_minor": 0
      },
      "text/plain": [
       "Map:   0%|          | 0/7840 [00:00<?, ? examples/s]"
      ]
     },
     "metadata": {},
     "output_type": "display_data"
    },
    {
     "data": {
      "application/vnd.jupyter.widget-view+json": {
       "model_id": "2786f72e761f4511b6d5404949365a8f",
       "version_major": 2,
       "version_minor": 0
      },
      "text/plain": [
       "Map:   0%|          | 0/980 [00:00<?, ? examples/s]"
      ]
     },
     "metadata": {},
     "output_type": "display_data"
    },
    {
     "data": {
      "application/vnd.jupyter.widget-view+json": {
       "model_id": "869a3f90bd454a14b131a834f45daf64",
       "version_major": 2,
       "version_minor": 0
      },
      "text/plain": [
       "Map:   0%|          | 0/981 [00:00<?, ? examples/s]"
      ]
     },
     "metadata": {},
     "output_type": "display_data"
    },
    {
     "name": "stdout",
     "output_type": "stream",
     "text": [
      "✅ Datasets tokenized successfully!\n"
     ]
    }
   ],
   "source": [
    "# Create HuggingFace Datasets\n",
    "print(\"🔄 Creating HuggingFace Datasets...\")\n",
    "\n",
    "# Luôn dùng comment_text_clean và rename thành comment_text để thống nhất\n",
    "train_dataset = Dataset.from_pandas(\n",
    "    train_df[['comment_text_clean', 'labels']].rename(columns={'comment_text_clean': 'comment_text'}),\n",
    "    preserve_index=False\n",
    ")\n",
    "\n",
    "val_dataset = Dataset.from_pandas(\n",
    "    val_df[['comment_text_clean', 'labels']].rename(columns={'comment_text_clean': 'comment_text'}),\n",
    "    preserve_index=False\n",
    ")\n",
    "\n",
    "test_dataset = Dataset.from_pandas(\n",
    "    test_df[['comment_text_clean', 'labels']].rename(columns={'comment_text_clean': 'comment_text'}),\n",
    "    preserve_index=False\n",
    ")\n",
    "\n",
    "# Apply tokenization\n",
    "print(\"🔄 Tokenizing datasets...\")\n",
    "train_dataset = train_dataset.map(tokenize_batch, batched=True)\n",
    "val_dataset = val_dataset.map(tokenize_batch, batched=True)\n",
    "test_dataset = test_dataset.map(tokenize_batch, batched=True)\n",
    "\n",
    "print(\"✅ Datasets tokenized successfully!\")"
   ]
  },
  {
   "cell_type": "markdown",
   "metadata": {},
   "source": [
    "# **9. Model Setup & Training**"
   ]
  },
  {
   "cell_type": "code",
   "execution_count": 17,
   "metadata": {
    "execution": {
     "iopub.execute_input": "2025-10-08T02:29:33.261616Z",
     "iopub.status.busy": "2025-10-08T02:29:33.261362Z",
     "iopub.status.idle": "2025-10-08T02:29:33.347381Z",
     "shell.execute_reply": "2025-10-08T02:29:33.346673Z",
     "shell.execute_reply.started": "2025-10-08T02:29:33.261584Z"
    },
    "trusted": true
   },
   "outputs": [
    {
     "name": "stdout",
     "output_type": "stream",
     "text": [
      "============================================================\n",
      "🤖 MODEL CONFIGURATION\n",
      "============================================================\n"
     ]
    }
   ],
   "source": [
    "print(\"=\" * 60)\n",
    "print(\"🤖 MODEL CONFIGURATION\")\n",
    "print(\"=\" * 60)\n",
    "\n",
    "# config = AutoConfig.from_pretrained(MODEL_NAME)\n",
    "# config.num_labels = 3\n",
    "# config.hidden_dropout_prob = 0.1\n",
    "# config.attention_probs_dropout_prob = 0.1\n",
    "\n",
    "config = AutoConfig.from_pretrained(\n",
    "    MODEL_NAME,\n",
    "    num_labels=3,\n",
    "    hidden_dropout_prob=0.15,\n",
    "    attention_probs_dropout_prob=0.15\n",
    ")"
   ]
  },
  {
   "cell_type": "code",
   "execution_count": 18,
   "metadata": {
    "execution": {
     "iopub.execute_input": "2025-10-08T02:29:33.348426Z",
     "iopub.status.busy": "2025-10-08T02:29:33.348123Z",
     "iopub.status.idle": "2025-10-08T02:29:42.227967Z",
     "shell.execute_reply": "2025-10-08T02:29:42.227205Z",
     "shell.execute_reply.started": "2025-10-08T02:29:33.348409Z"
    },
    "trusted": true
   },
   "outputs": [
    {
     "name": "stdout",
     "output_type": "stream",
     "text": [
      "==================================================\n",
      "🤖 SETTING UP MODEL\n",
      "==================================================\n"
     ]
    },
    {
     "data": {
      "application/vnd.jupyter.widget-view+json": {
       "model_id": "7d66a084491b4a80b4a50259640b469d",
       "version_major": 2,
       "version_minor": 0
      },
      "text/plain": [
       "pytorch_model.bin:   0%|          | 0.00/1.48G [00:00<?, ?B/s]"
      ]
     },
     "metadata": {},
     "output_type": "display_data"
    },
    {
     "data": {
      "application/vnd.jupyter.widget-view+json": {
       "model_id": "648cb5b58c024d32838036f64f8e7689",
       "version_major": 2,
       "version_minor": 0
      },
      "text/plain": [
       "model.safetensors:   0%|          | 0.00/1.48G [00:00<?, ?B/s]"
      ]
     },
     "metadata": {},
     "output_type": "display_data"
    },
    {
     "name": "stderr",
     "output_type": "stream",
     "text": [
      "Some weights of RobertaForSequenceClassification were not initialized from the model checkpoint at vinai/phobert-large and are newly initialized: ['classifier.dense.bias', 'classifier.dense.weight', 'classifier.out_proj.bias', 'classifier.out_proj.weight']\n",
      "You should probably TRAIN this model on a down-stream task to be able to use it for predictions and inference.\n"
     ]
    },
    {
     "name": "stdout",
     "output_type": "stream",
     "text": [
      "✅ Loaded model: vinai/phobert-large\n",
      "📊 Model parameters: 369,166,339\n"
     ]
    }
   ],
   "source": [
    "print(\"=\" * 50)\n",
    "print(\"🤖 SETTING UP MODEL\")\n",
    "print(\"=\" * 50)\n",
    "\n",
    "# Load PhoBERT model\n",
    "model = AutoModelForSequenceClassification.from_pretrained(\n",
    "    MODEL_NAME,\n",
    "    # num_labels=len(TARGET_LABELS)\n",
    "    config=config\n",
    ")\n",
    "model.to(DEVICE)\n",
    "print(f\"✅ Loaded model: {MODEL_NAME}\")\n",
    "print(f\"📊 Model parameters: {model.num_parameters():,}\")"
   ]
  },
  {
   "cell_type": "code",
   "execution_count": null,
   "metadata": {
    "execution": {
     "iopub.execute_input": "2025-10-08T02:29:42.229066Z",
     "iopub.status.busy": "2025-10-08T02:29:42.228772Z",
     "iopub.status.idle": "2025-10-08T02:29:42.265942Z",
     "shell.execute_reply": "2025-10-08T02:29:42.265415Z",
     "shell.execute_reply.started": "2025-10-08T02:29:42.229037Z"
    },
    "trusted": true
   },
   "outputs": [],
   "source": [
    "# Training arguments\n",
    "training_args = TrainingArguments(\n",
    "    output_dir=MODEL_PATH,\n",
    "    do_train=True,\n",
    "    do_eval=True,\n",
    "\n",
    "    learning_rate=8e-6,              # quay về LR ổn định\n",
    "    num_train_epochs=20,             # đủ lâu để hội tụ\n",
    "    warmup_ratio=0.2,\n",
    "    weight_decay=0.2,\n",
    "    per_device_train_batch_size=8,\n",
    "    per_device_eval_batch_size=16,\n",
    "    gradient_accumulation_steps=4,\n",
    "\n",
    "    # theo dõi & chọn theo macro-F1\n",
    "    evaluation_strategy=\"steps\",\n",
    "    save_strategy=\"steps\",\n",
    "    eval_steps=100,             # THÊM MỚI\n",
    "    save_steps=100,             # THÊM MỚI\n",
    "    load_best_model_at_end=True,\n",
    "    metric_for_best_model=\"eval_f1_macro\",\n",
    "    greater_is_better=True,\n",
    "    save_total_limit=2,\n",
    "\n",
    "    # scheduler mượt hơn\n",
    "    lr_scheduler_type=\"cosine\",\n",
    "\n",
    "    # ổn định/hiệu năng\n",
    "    fp16=True,\n",
    "    max_grad_norm=0.5,\n",
    "    logging_steps=50,\n",
    "    report_to=\"wandb\",\n",
    "    seed=RANDOM_STATE,\n",
    "    dataloader_num_workers=2,\n",
    "    label_smoothing_factor=0.1,\n",
    "    run_name=\"phobert_sentiment_v1\", # tên hiển thị trên dashboard wandb\n",
    ")"
   ]
  },
  {
   "cell_type": "markdown",
   "metadata": {},
   "source": [
    "**Thiết lập một `EarlyStoppingCallback` để dừng huấn luyện sớm nếu model không cải thiện trên tập validation:**\n",
    "\n",
    "- `early_stopping_patience = 3`: nếu 3 lần đánh giá liên tiếp không thấy accuracy tăng thì dừng.\n",
    "- `early_stopping_threshold = 0.0`: yêu cầu tăng ít nhất một lượng dương (bất kỳ) mới tính là cải thiện.\n",
    "\n",
    "> **Chú ý:** truyền `tokenizer=tokenizer` để `Trainer` tự động dùng padding động khi tạo batch.\n"
   ]
  },
  {
   "cell_type": "code",
   "execution_count": 20,
   "metadata": {
    "execution": {
     "iopub.execute_input": "2025-10-08T02:29:42.266956Z",
     "iopub.status.busy": "2025-10-08T02:29:42.266700Z",
     "iopub.status.idle": "2025-10-08T02:29:43.206449Z",
     "shell.execute_reply": "2025-10-08T02:29:43.202142Z",
     "shell.execute_reply.started": "2025-10-08T02:29:42.266940Z"
    },
    "trusted": true
   },
   "outputs": [],
   "source": [
    "# Early stopping callback\n",
    "early_stopping = EarlyStoppingCallback(\n",
    "    early_stopping_patience=3,\n",
    "    early_stopping_threshold=5e-4\n",
    ")"
   ]
  },
  {
   "cell_type": "code",
   "execution_count": null,
   "metadata": {
    "execution": {
     "iopub.execute_input": "2025-10-08T02:29:43.207917Z",
     "iopub.status.busy": "2025-10-08T02:29:43.207594Z",
     "iopub.status.idle": "2025-10-08T02:29:43.228226Z",
     "shell.execute_reply": "2025-10-08T02:29:43.225536Z",
     "shell.execute_reply.started": "2025-10-08T02:29:43.207888Z"
    },
    "trusted": true
   },
   "outputs": [],
   "source": [
    "# Metrics computation\n",
    "def compute_metrics(eval_pred):\n",
    "    \"\"\"Compute accuracy and F1 score\"\"\"\n",
    "    logits, labels = eval_pred\n",
    "    predictions = np.argmax(logits, axis=-1)\n",
    "\n",
    "    accuracy = accuracy_score(labels, predictions)\n",
    "    f1_macro = f1_score(labels, predictions, average='macro')\n",
    "    f1_weighted = f1_score(labels, predictions, average='weighted')\n",
    "\n",
    "    return {\n",
    "        \"accuracy\": accuracy,\n",
    "        \"f1_macro\": f1_macro,\n",
    "        \"f1_weighted\": f1_weighted\n",
    "    }"
   ]
  },
  {
   "cell_type": "code",
   "execution_count": 22,
   "metadata": {
    "execution": {
     "iopub.execute_input": "2025-10-08T02:29:43.229572Z",
     "iopub.status.busy": "2025-10-08T02:29:43.229147Z",
     "iopub.status.idle": "2025-10-08T02:29:43.263455Z",
     "shell.execute_reply": "2025-10-08T02:29:43.262287Z",
     "shell.execute_reply.started": "2025-10-08T02:29:43.229548Z"
    },
    "trusted": true
   },
   "outputs": [],
   "source": [
    "class TrainEvalLossCallback(TrainerCallback):\n",
    "    def on_log(self, args, state, control, logs=None, **kwargs):\n",
    "        if logs is not None:\n",
    "            # if \"loss\" in logs:\n",
    "            #     print(f\"Step {state.global_step} - Train loss: {logs['loss']:.4f}\")\n",
    "            if \"eval_loss\" in logs:\n",
    "                print(f\"Step {state.global_step} - Eval loss: {logs['eval_loss']:.4f}\")"
   ]
  },
  {
   "cell_type": "code",
   "execution_count": null,
   "metadata": {
    "execution": {
     "iopub.execute_input": "2025-10-08T02:29:43.398437Z",
     "iopub.status.busy": "2025-10-08T02:29:43.397308Z",
     "iopub.status.idle": "2025-10-08T02:29:43.471007Z",
     "shell.execute_reply": "2025-10-08T02:29:43.467291Z",
     "shell.execute_reply.started": "2025-10-08T02:29:43.398403Z"
    },
    "trusted": true
   },
   "outputs": [
    {
     "name": "stdout",
     "output_type": "stream",
     "text": [
      "✅ Trainer setup complete!\n"
     ]
    }
   ],
   "source": [
    "# Create trainer\n",
    "trainer = Trainer(\n",
    "    model=model,\n",
    "    args=training_args,\n",
    "    train_dataset=train_dataset,\n",
    "    eval_dataset=val_dataset,\n",
    "    tokenizer=tokenizer,\n",
    "    compute_metrics=compute_metrics,\n",
    "    callbacks=[early_stopping, TrainEvalLossCallback],\n",
    "    # rdrop_alpha=2.0\n",
    ")\n",
    "\n",
    "print(\"✅ Trainer setup complete!\")"
   ]
  },
  {
   "cell_type": "code",
   "execution_count": null,
   "metadata": {},
   "outputs": [],
   "source": [
    "wandb.init(project=\"phobert_sentiment\", name=\"run_kaggle_v1\", config={\n",
    "    \"epochs\": 3,\n",
    "    \"lr\": 2e-5,\n",
    "    \"batch_size\": 16\n",
    "})\n",
    "\n",
    "print(\"✅ wandb setup complete!\")"
   ]
  },
  {
   "cell_type": "markdown",
   "metadata": {},
   "source": [
    "# **10. Training**"
   ]
  },
  {
   "cell_type": "code",
   "execution_count": null,
   "metadata": {
    "execution": {
     "iopub.execute_input": "2025-10-08T02:29:43.475449Z",
     "iopub.status.busy": "2025-10-08T02:29:43.472127Z",
     "iopub.status.idle": "2025-10-08T03:52:01.489553Z",
     "shell.execute_reply": "2025-10-08T03:52:01.488576Z",
     "shell.execute_reply.started": "2025-10-08T02:29:43.475420Z"
    },
    "trusted": true
   },
   "outputs": [
    {
     "name": "stdout",
     "output_type": "stream",
     "text": [
      "==================================================\n",
      "🚀 STARTING TRAINING\n",
      "==================================================\n"
     ]
    },
    {
     "data": {
      "text/html": [
       "\n",
       "    <div>\n",
       "      \n",
       "      <progress value='1800' max='2460' style='width:300px; height:20px; vertical-align: middle;'></progress>\n",
       "      [1800/2460 1:22:09 < 30:09, 0.36 it/s, Epoch 14/20]\n",
       "    </div>\n",
       "    <table border=\"1\" class=\"dataframe\">\n",
       "  <thead>\n",
       " <tr style=\"text-align: left;\">\n",
       "      <th>Step</th>\n",
       "      <th>Training Loss</th>\n",
       "      <th>Validation Loss</th>\n",
       "      <th>Accuracy</th>\n",
       "      <th>F1 Macro</th>\n",
       "      <th>F1 Weighted</th>\n",
       "    </tr>\n",
       "  </thead>\n",
       "  <tbody>\n",
       "    <tr>\n",
       "      <td>100</td>\n",
       "      <td>1.099300</td>\n",
       "      <td>1.097951</td>\n",
       "      <td>0.372449</td>\n",
       "      <td>0.313238</td>\n",
       "      <td>0.310935</td>\n",
       "    </tr>\n",
       "    <tr>\n",
       "      <td>200</td>\n",
       "      <td>1.095000</td>\n",
       "      <td>1.090520</td>\n",
       "      <td>0.397959</td>\n",
       "      <td>0.314727</td>\n",
       "      <td>0.325882</td>\n",
       "    </tr>\n",
       "    <tr>\n",
       "      <td>300</td>\n",
       "      <td>1.051200</td>\n",
       "      <td>1.037076</td>\n",
       "      <td>0.487755</td>\n",
       "      <td>0.488381</td>\n",
       "      <td>0.488487</td>\n",
       "    </tr>\n",
       "    <tr>\n",
       "      <td>400</td>\n",
       "      <td>0.945500</td>\n",
       "      <td>0.917291</td>\n",
       "      <td>0.579592</td>\n",
       "      <td>0.565987</td>\n",
       "      <td>0.562302</td>\n",
       "    </tr>\n",
       "    <tr>\n",
       "      <td>500</td>\n",
       "      <td>0.881900</td>\n",
       "      <td>0.883372</td>\n",
       "      <td>0.618367</td>\n",
       "      <td>0.614033</td>\n",
       "      <td>0.611516</td>\n",
       "    </tr>\n",
       "    <tr>\n",
       "      <td>600</td>\n",
       "      <td>0.817800</td>\n",
       "      <td>0.799629</td>\n",
       "      <td>0.703061</td>\n",
       "      <td>0.706012</td>\n",
       "      <td>0.703157</td>\n",
       "    </tr>\n",
       "    <tr>\n",
       "      <td>700</td>\n",
       "      <td>0.788900</td>\n",
       "      <td>0.791073</td>\n",
       "      <td>0.697959</td>\n",
       "      <td>0.695443</td>\n",
       "      <td>0.693130</td>\n",
       "    </tr>\n",
       "    <tr>\n",
       "      <td>800</td>\n",
       "      <td>0.730300</td>\n",
       "      <td>0.771763</td>\n",
       "      <td>0.718367</td>\n",
       "      <td>0.718358</td>\n",
       "      <td>0.716175</td>\n",
       "    </tr>\n",
       "    <tr>\n",
       "      <td>900</td>\n",
       "      <td>0.688800</td>\n",
       "      <td>0.743590</td>\n",
       "      <td>0.741837</td>\n",
       "      <td>0.741851</td>\n",
       "      <td>0.739599</td>\n",
       "    </tr>\n",
       "    <tr>\n",
       "      <td>1000</td>\n",
       "      <td>0.662100</td>\n",
       "      <td>0.744219</td>\n",
       "      <td>0.754082</td>\n",
       "      <td>0.755589</td>\n",
       "      <td>0.753526</td>\n",
       "    </tr>\n",
       "    <tr>\n",
       "      <td>1100</td>\n",
       "      <td>0.651200</td>\n",
       "      <td>0.728644</td>\n",
       "      <td>0.747959</td>\n",
       "      <td>0.749058</td>\n",
       "      <td>0.746855</td>\n",
       "    </tr>\n",
       "    <tr>\n",
       "      <td>1200</td>\n",
       "      <td>0.608400</td>\n",
       "      <td>0.729255</td>\n",
       "      <td>0.755102</td>\n",
       "      <td>0.756834</td>\n",
       "      <td>0.754684</td>\n",
       "    </tr>\n",
       "    <tr>\n",
       "      <td>1300</td>\n",
       "      <td>0.574200</td>\n",
       "      <td>0.753709</td>\n",
       "      <td>0.745918</td>\n",
       "      <td>0.745905</td>\n",
       "      <td>0.743370</td>\n",
       "    </tr>\n",
       "    <tr>\n",
       "      <td>1400</td>\n",
       "      <td>0.548700</td>\n",
       "      <td>0.738474</td>\n",
       "      <td>0.767347</td>\n",
       "      <td>0.768330</td>\n",
       "      <td>0.765807</td>\n",
       "    </tr>\n",
       "    <tr>\n",
       "      <td>1500</td>\n",
       "      <td>0.551100</td>\n",
       "      <td>0.749073</td>\n",
       "      <td>0.771429</td>\n",
       "      <td>0.772352</td>\n",
       "      <td>0.769964</td>\n",
       "    </tr>\n",
       "    <tr>\n",
       "      <td>1600</td>\n",
       "      <td>0.552000</td>\n",
       "      <td>0.754931</td>\n",
       "      <td>0.755102</td>\n",
       "      <td>0.754404</td>\n",
       "      <td>0.751994</td>\n",
       "    </tr>\n",
       "    <tr>\n",
       "      <td>1700</td>\n",
       "      <td>0.524100</td>\n",
       "      <td>0.747874</td>\n",
       "      <td>0.765306</td>\n",
       "      <td>0.765653</td>\n",
       "      <td>0.763543</td>\n",
       "    </tr>\n",
       "    <tr>\n",
       "      <td>1800</td>\n",
       "      <td>0.516000</td>\n",
       "      <td>0.746550</td>\n",
       "      <td>0.765306</td>\n",
       "      <td>0.767053</td>\n",
       "      <td>0.765054</td>\n",
       "    </tr>\n",
       "  </tbody>\n",
       "</table><p>"
      ],
      "text/plain": [
       "<IPython.core.display.HTML object>"
      ]
     },
     "metadata": {},
     "output_type": "display_data"
    },
    {
     "name": "stdout",
     "output_type": "stream",
     "text": [
      "Step 100 - Eval loss: 1.0980\n",
      "Step 200 - Eval loss: 1.0905\n",
      "Step 300 - Eval loss: 1.0371\n",
      "Step 400 - Eval loss: 0.9173\n",
      "Step 500 - Eval loss: 0.8834\n",
      "Step 600 - Eval loss: 0.7996\n",
      "Step 700 - Eval loss: 0.7911\n",
      "Step 800 - Eval loss: 0.7718\n",
      "Step 900 - Eval loss: 0.7436\n",
      "Step 1000 - Eval loss: 0.7442\n",
      "Step 1100 - Eval loss: 0.7286\n",
      "Step 1200 - Eval loss: 0.7293\n",
      "Step 1300 - Eval loss: 0.7537\n",
      "Step 1400 - Eval loss: 0.7385\n",
      "Step 1500 - Eval loss: 0.7491\n",
      "Step 1600 - Eval loss: 0.7549\n",
      "Step 1700 - Eval loss: 0.7479\n",
      "Step 1800 - Eval loss: 0.7466\n",
      "✅ Training completed!\n",
      "🏆 Best validation f1_macro: 0.7724\n"
     ]
    }
   ],
   "source": [
    "print(\"=\" * 50)\n",
    "print(\"🚀 STARTING TRAINING\")\n",
    "print(\"=\" * 50)\n",
    "\n",
    "# Start training\n",
    "trainer_result = trainer.train()\n",
    "wandb.finish()\n",
    "\n",
    "print(\"✅ Training completed!\")\n",
    "print(f\"🏆 Best validation f1_macro: {trainer.state.best_metric:.4f}\")"
   ]
  },
  {
   "cell_type": "code",
   "execution_count": 29,
   "metadata": {
    "execution": {
     "iopub.execute_input": "2025-10-08T03:52:01.491005Z",
     "iopub.status.busy": "2025-10-08T03:52:01.490756Z",
     "iopub.status.idle": "2025-10-08T03:52:10.135484Z",
     "shell.execute_reply": "2025-10-08T03:52:10.134774Z",
     "shell.execute_reply.started": "2025-10-08T03:52:01.490981Z"
    },
    "trusted": true
   },
   "outputs": [
    {
     "data": {
      "image/png": "[encoded data removed]",
      "text/plain": [
       "<Figure size 1000x600 with 1 Axes>"
      ]
     },
     "metadata": {},
     "output_type": "display_data"
    }
   ],
   "source": [
    "# Lấy toàn bộ log\n",
    "logs = pd.DataFrame(trainer.state.log_history)\n",
    "\n",
    "# Training loss theo step\n",
    "df_train = logs[(logs[\"loss\"].notna()) & (logs[\"epoch\"].notna())][[\"step\", \"epoch\", \"loss\"]]\n",
    "\n",
    "# Validation loss theo step (có nếu evaluation_strategy=\"steps\")\n",
    "df_eval = logs[logs[\"eval_loss\"].notna()][[\"step\", \"epoch\", \"eval_loss\"]]\n",
    "\n",
    "# Vẽ\n",
    "plt.figure(figsize=(10,6))\n",
    "\n",
    "plt.plot(df_train[\"step\"], df_train[\"loss\"], marker=\".\", alpha=0.7, label=\"Training Loss\")\n",
    "plt.plot(df_eval[\"step\"], df_eval[\"eval_loss\"], marker=\"s\", alpha=0.9, label=\"Validation Loss\")\n",
    "\n",
    "plt.xlabel(\"Step\")\n",
    "plt.ylabel(\"Loss\")\n",
    "plt.title(\"Training vs Validation Loss (per step)\")\n",
    "plt.legend()\n",
    "plt.grid(True, linestyle=\"--\", alpha=0.6)\n",
    "plt.show()"
   ]
  },
  {
   "cell_type": "code",
   "execution_count": 30,
   "metadata": {
    "execution": {
     "iopub.execute_input": "2025-10-08T03:52:10.137067Z",
     "iopub.status.busy": "2025-10-08T03:52:10.136374Z",
     "iopub.status.idle": "2025-10-08T03:52:12.584332Z",
     "shell.execute_reply": "2025-10-08T03:52:12.583657Z",
     "shell.execute_reply.started": "2025-10-08T03:52:10.137046Z"
    },
    "trusted": true
   },
   "outputs": [
    {
     "name": "stdout",
     "output_type": "stream",
     "text": [
      "💾 Model saved to: ./models/phobert_sentiment\n"
     ]
    }
   ],
   "source": [
    "# Save model and tokenizer\n",
    "trainer.save_model()\n",
    "tokenizer.save_pretrained(training_args.output_dir)\n",
    "print(f\"💾 Model saved to: {training_args.output_dir}\")"
   ]
  },
  {
   "cell_type": "markdown",
   "metadata": {},
   "source": [
    "# **11. Model Evaluation**"
   ]
  },
  {
   "cell_type": "code",
   "execution_count": null,
   "metadata": {
    "execution": {
     "iopub.execute_input": "2025-10-08T03:52:12.585505Z",
     "iopub.status.busy": "2025-10-08T03:52:12.585175Z",
     "iopub.status.idle": "2025-10-08T03:52:26.698462Z",
     "shell.execute_reply": "2025-10-08T03:52:26.697772Z",
     "shell.execute_reply.started": "2025-10-08T03:52:12.585481Z"
    },
    "trusted": true
   },
   "outputs": [
    {
     "name": "stdout",
     "output_type": "stream",
     "text": [
      "==================================================\n",
      "📊 EVALUATING MODEL\n",
      "==================================================\n"
     ]
    },
    {
     "data": {
      "text/html": [],
      "text/plain": [
       "<IPython.core.display.HTML object>"
      ]
     },
     "metadata": {},
     "output_type": "display_data"
    },
    {
     "name": "stdout",
     "output_type": "stream",
     "text": [
      "🎯 Test Results:\n",
      "  Accuracy: 0.7768\n",
      "  F1-Macro: 0.7792\n",
      "  F1-Weighted: 0.7770\n",
      "\n",
      "📋 Detailed Classification Report:\n",
      "              precision    recall  f1-score   support\n",
      "\n",
      "    Tiêu cực     0.8652    0.8106    0.8370       301\n",
      "   Trung lập     0.7781    0.6994    0.7367       336\n",
      "    Tích cực     0.7128    0.8227    0.7638       344\n",
      "\n",
      "    accuracy                         0.7768       981\n",
      "   macro avg     0.7854    0.7776    0.7792       981\n",
      "weighted avg     0.7820    0.7768    0.7770       981\n",
      "\n"
     ]
    },
    {
     "data": {
      "image/png": "[encoded data removed]",
      "text/plain": [
       "<Figure size 800x600 with 2 Axes>"
      ]
     },
     "metadata": {},
     "output_type": "display_data"
    }
   ],
   "source": [
    "print(\"=\" * 50)\n",
    "print(\"📊 EVALUATING MODEL\")\n",
    "print(\"=\" * 50)\n",
    "\n",
    "# Evaluate on test set\n",
    "test_results = trainer.predict(test_dataset=test_dataset)\n",
    "test_predictions = np.argmax(test_results.predictions, axis=1)\n",
    "test_labels = test_results.label_ids\n",
    "\n",
    "# Calculate metrics\n",
    "test_accuracy = accuracy_score(test_labels, test_predictions)\n",
    "test_f1_macro = f1_score(test_labels, test_predictions, average='macro')\n",
    "test_f1_weighted = f1_score(test_labels, test_predictions, average='weighted')\n",
    "\n",
    "print(f\"🎯 Test Results:\")\n",
    "print(f\"  Accuracy: {test_accuracy:.4f}\")\n",
    "print(f\"  F1-Macro: {test_f1_macro:.4f}\")\n",
    "print(f\"  F1-Weighted: {test_f1_weighted:.4f}\")\n",
    "\n",
    "# Detailed classification report\n",
    "class_names = [LABEL_MAP[i] for i in TARGET_LABELS]\n",
    "print(f\"\\n📋 Detailed Classification Report:\")\n",
    "print(classification_report(\n",
    "    test_labels,\n",
    "    test_predictions,\n",
    "    target_names=class_names,\n",
    "    digits=4\n",
    "))\n",
    "\n",
    "# Confusion matrix\n",
    "cm = confusion_matrix(test_labels, test_predictions)\n",
    "plt.figure(figsize=(8, 6))\n",
    "sns.heatmap(\n",
    "    cm,\n",
    "    annot=True,\n",
    "    fmt='d',\n",
    "    cmap='Blues',\n",
    "    xticklabels=class_names,\n",
    "    yticklabels=class_names\n",
    ")\n",
    "plt.title('Confusion Matrix')\n",
    "plt.ylabel('True Label')\n",
    "plt.xlabel('Predicted Label')\n",
    "plt.show()"
   ]
  },
  {
   "cell_type": "markdown",
   "metadata": {},
   "source": [
    "# **12. Model Testing**"
   ]
  },
  {
   "cell_type": "code",
   "execution_count": null,
   "metadata": {
    "execution": {
     "iopub.execute_input": "2025-10-08T03:52:27.181980Z",
     "iopub.status.busy": "2025-10-08T03:52:27.181815Z",
     "iopub.status.idle": "2025-10-08T03:52:27.197712Z",
     "shell.execute_reply": "2025-10-08T03:52:27.197021Z",
     "shell.execute_reply.started": "2025-10-08T03:52:27.181967Z"
    },
    "trusted": true
   },
   "outputs": [
    {
     "name": "stdout",
     "output_type": "stream",
     "text": [
      "==================================================\n",
      "🧪 SETTING UP INFERENCE FUNCTION\n",
      "==================================================\n"
     ]
    }
   ],
   "source": [
    "print(\"=\" * 50)\n",
    "print(\"🧪 SETTING UP INFERENCE FUNCTION\")\n",
    "print(\"=\" * 50)\n",
    "\n",
    "def predict_sentiment(text, model_dir=MODEL_PATH):\n",
    "    \"\"\"Predict sentiment of a Vietnamese text\"\"\"\n",
    "\n",
    "    # Load model and tokenizer\n",
    "    tokenizer = AutoTokenizer.from_pretrained(model_dir)\n",
    "    model = AutoModelForSequenceClassification.from_pretrained(model_dir)\n",
    "    model.to(DEVICE)\n",
    "    model.eval()\n",
    "\n",
    "    # Preprocess text\n",
    "    cleaned_text = basic_clean(text)\n",
    "    segmented_text = word_segment_vietnamese(cleaned_text)\n",
    "\n",
    "    # Tokenize\n",
    "    inputs = tokenizer(\n",
    "        segmented_text,\n",
    "        return_tensors=\"pt\",\n",
    "        truncation=True,\n",
    "        max_length=256\n",
    "    ).to(DEVICE)\n",
    "\n",
    "    # Predict\n",
    "    with torch.no_grad():\n",
    "        outputs = model(**inputs)\n",
    "        probabilities = F.softmax(outputs.logits, dim=1)\n",
    "        predicted_class = torch.argmax(outputs.logits, dim=1).item()\n",
    "\n",
    "    # Format results\n",
    "    results = {\n",
    "        \"original_text\": text,\n",
    "        \"cleaned_text\": cleaned_text,\n",
    "        \"segmented_text\": segmented_text,\n",
    "        \"predicted_label\": predicted_class,\n",
    "        \"predicted_class\": LABEL_MAP[predicted_class],\n",
    "        \"probabilities\": {\n",
    "            LABEL_MAP[i]: prob.item()\n",
    "            for i, prob in enumerate(probabilities.squeeze())\n",
    "        }\n",
    "    }\n",
    "\n",
    "    return results"
   ]
  },
  {
   "cell_type": "code",
   "execution_count": null,
   "metadata": {
    "execution": {
     "iopub.execute_input": "2025-10-08T03:52:27.198585Z",
     "iopub.status.busy": "2025-10-08T03:52:27.198388Z",
     "iopub.status.idle": "2025-10-08T03:52:33.618791Z",
     "shell.execute_reply": "2025-10-08T03:52:33.618137Z",
     "shell.execute_reply.started": "2025-10-08T03:52:27.198570Z"
    },
    "trusted": true
   },
   "outputs": [
    {
     "name": "stdout",
     "output_type": "stream",
     "text": [
      "🔍 Testing Inference Function:\n",
      "\n",
      "Test 1:\n",
      "  Input: Phim này rất hay và cảm động!\n",
      "  Prediction: Tích cực\n",
      "  Confidence: 0.967\n",
      "\n",
      "Test 2:\n",
      "  Input: Dịch vụ tệ quá, tôi rất thất vọng\n",
      "  Prediction: Tiêu cực\n",
      "  Confidence: 0.951\n",
      "\n",
      "Test 3:\n",
      "  Input: Sản phẩm bình thường, không có gì đặc biệt\n",
      "  Prediction: Trung lập\n",
      "  Confidence: 0.536\n",
      "\n",
      "Test 4:\n",
      "  Input: Film nay rat hay va cam dong!\n",
      "  Prediction: Tiêu cực\n",
      "  Confidence: 0.695\n",
      "\n",
      "Test 5:\n",
      "  Input: mình nhận camp vé\n",
      "  Prediction: Tiêu cực\n",
      "  Confidence: 0.953\n",
      "\n",
      "Test 6:\n",
      "  Input: Dở tệ, phí thời gian.\n",
      "  Prediction: Tiêu cực\n",
      "  Confidence: 0.953\n",
      "\n",
      "Test 7:\n",
      "  Input: https://shopee.vn/%E1%BB%90p-L%C6%B0ng-Cho-Xiaomi-Redmi-Note-13-11-12-Pro-Plus-5G-Turbo-3-12S-11S-10S-1S0-9-9-Pro-Redmi-12-13-12C-10C-13C-Ng%E1%BB%99-ngh%C4%A9nh-C%E1%BA%B7p-%C4%90%C3%B4i-%C4%90i%E1%BB%87n-H%E1%BB%8Da-Ti%E1%BA%BFt-Xe-M%C3%A1y-Silicon-M%E1%BB%9D-B%C3%ACa-M%E1%BB%81m-i.1005456513.26104563210?sp_atk=7975f1af-d972-4ffb-8ee8-ffbe9a161069&xptdk=7975f1af-d972-4ffb-8ee8-ffbe9a161069\n",
      "  Prediction: Tiêu cực\n",
      "  Confidence: 0.963\n",
      "==================================================\n",
      "✅ TRAINING PIPELINE COMPLETED!\n",
      "==================================================\n",
      "\n",
      "🎉 Summary:\n",
      "  📊 Final training data: 7840 samples \n",
      "  🏆 Best validation accuracy: 0.7724\n",
      "  🎯 Test accuracy: 0.7768\n",
      "  💾 Model saved to: ./models/phobert_sentiment\n"
     ]
    }
   ],
   "source": [
    "# Test the inference function\n",
    "test_texts = [\n",
    "    \"Phim này rất hay và cảm động!\",\n",
    "    \"Dịch vụ tệ quá, tôi rất thất vọng\",\n",
    "    \"Sản phẩm bình thường, không có gì đặc biệt\",\n",
    "    \"Film nay rat hay va cam dong!\", # No accent version\n",
    "    \"mình nhận camp vé\",\n",
    "    \"Dở tệ, phí thời gian.\",\n",
    "    \"https://shopee.vn/%E1%BB%90p-L%C6%B0ng-Cho-Xiaomi-Redmi-Note-13-11-12-Pro-Plus-5G-Turbo-3-12S-11S-10S-1S0-9-9-Pro-Redmi-12-13-12C-10C-13C-Ng%E1%BB%99-ngh%C4%A9nh-C%E1%BA%B7p-%C4%90%C3%B4i-%C4%90i%E1%BB%87n-H%E1%BB%8Da-Ti%E1%BA%BFt-Xe-M%C3%A1y-Silicon-M%E1%BB%9D-B%C3%ACa-M%E1%BB%81m-i.1005456513.26104563210?sp_atk=7975f1af-d972-4ffb-8ee8-ffbe9a161069&xptdk=7975f1af-d972-4ffb-8ee8-ffbe9a161069\"\n",
    "]\n",
    "\n",
    "print(\"🔍 Testing Inference Function:\")\n",
    "for i, test_text in enumerate(test_texts, 1):\n",
    "    print(f\"\\nTest {i}:\")\n",
    "    result = predict_sentiment(test_text, MODEL_PATH)\n",
    "    print(f\"  Input: {result['original_text']}\")\n",
    "    print(f\"  Prediction: {result['predicted_class']}\")\n",
    "    print(f\"  Confidence: {result['probabilities'][result['predicted_class']]:.3f}\")\n",
    "\n",
    "print(\"=\" * 50)\n",
    "print(\"✅ TRAINING PIPELINE COMPLETED!\")\n",
    "print(\"=\" * 50)\n",
    "\n",
    "print(f\"\"\"\n",
    "🎉 Summary:\n",
    "  📊 Final training data: {len(train_df)} samples\n",
    "  🏆 Best validation accuracy: {trainer.state.best_metric:.4f}\n",
    "  🎯 Test accuracy: {test_accuracy:.4f}\n",
    "  💾 Model saved to: {training_args.output_dir}\"\"\")"
   ]
  },
  {
   "cell_type": "code",
   "execution_count": 36,
   "metadata": {
    "execution": {
     "iopub.execute_input": "2025-10-08T03:52:33.619864Z",
     "iopub.status.busy": "2025-10-08T03:52:33.619583Z",
     "iopub.status.idle": "2025-10-08T03:52:33.624372Z",
     "shell.execute_reply": "2025-10-08T03:52:33.623770Z",
     "shell.execute_reply.started": "2025-10-08T03:52:33.619839Z"
    },
    "trusted": true
   },
   "outputs": [
    {
     "name": "stdout",
     "output_type": "stream",
     "text": [
      "Phim này rất hay và cảm động! → Phim này rất hay và cảm động!\n",
      "Dịch vụ tệ quá, tôi rất thất vọng → Dịch vụ tệ quá, tôi rất thất vọng\n",
      "Sản phẩm bình thường, không có gì đặc biệt → Sản phẩm bình thường, không có gì đặc biệt\n",
      "Film nay rat hay va cam dong! → Film nay rat hay va cam dong!\n",
      "mình nhận camp vé → mình nhận camp vé\n",
      "Dở tệ, phí thời gian. → Dở tệ, phí thời gian.\n",
      "https://shopee.vn/%E1%BB%90p-L%C6%B0ng-Cho-Xiaomi-Redmi-Note → <SPAMURL>\n"
     ]
    }
   ],
   "source": [
    "for text in test_texts:\n",
    "    print(text[:60], \"→\", basic_clean(text))\n"
   ]
  },
  {
   "cell_type": "code",
   "execution_count": null,
   "metadata": {
    "execution": {
     "iopub.execute_input": "2025-10-08T03:52:33.749868Z",
     "iopub.status.busy": "2025-10-08T03:52:33.749606Z",
     "iopub.status.idle": "2025-10-08T04:00:22.873028Z",
     "shell.execute_reply": "2025-10-08T04:00:22.872380Z",
     "shell.execute_reply.started": "2025-10-08T03:52:33.749846Z"
    },
    "trusted": true
   },
   "outputs": [
    {
     "data": {
      "text/plain": [
       "'/kaggle/working/output.zip'"
      ]
     },
     "execution_count": 44,
     "metadata": {},
     "output_type": "execute_result"
    }
   ],
   "source": [
    "# Dùng nếu train trên kaggle / Nén file zip -> download -> giải nén vào thư mục serving\n",
    "\n",
    "# import shutil\n",
    "# shutil.make_archive('/kaggle/working/models', 'zip', '/kaggle/working/models')"
   ]
  }
 ],
 "metadata": {
  "kaggle": {
   "accelerator": "nvidiaTeslaT4",
   "dataSources": [
    {
     "datasetId": 8417790,
     "sourceId": 13282349,
     "sourceType": "datasetVersion"
    }
   ],
   "dockerImageVersionId": 31090,
   "isGpuEnabled": true,
   "isInternetEnabled": true,
   "language": "python",
   "sourceType": "notebook"
  },
  "kernelspec": {
   "display_name": "Python 3",
   "language": "python",
   "name": "python3"
  },
  "language_info": {
   "codemirror_mode": {
    "name": "ipython",
    "version": 3
   },
   "file_extension": ".py",
   "mimetype": "text/x-python",
   "name": "python",
   "nbconvert_exporter": "python",
   "pygments_lexer": "ipython3",
   "version": "3.10.0"
  }
 },
 "nbformat": 4,
 "nbformat_minor": 4
}
